{
 "cells": [
  {
   "cell_type": "markdown",
   "metadata": {},
   "source": [
    "## Importing Libraries"
   ]
  },
  {
   "cell_type": "code",
   "execution_count": 5,
   "metadata": {},
   "outputs": [],
   "source": [
    "import numpy as np\n",
    "from PIL import Image\n",
    "from collections import namedtuple\n",
    "import os\n",
    "import glob\n",
    "import pickle\n",
    "import time\n",
    "from sklearn.metrics import confusion_matrix\n",
    "from sklearn.metrics import accuracy_score\n",
    "from typing import *"
   ]
  },
  {
   "cell_type": "markdown",
   "metadata": {},
   "source": [
    "## Extracting Haar Features "
   ]
  },
  {
   "cell_type": "code",
   "execution_count": 10,
   "metadata": {},
   "outputs": [],
   "source": [
    "Feature = namedtuple('Feature', 'name x y width height coords_x coords_y coeffs')\n",
    "\n",
    "## Two rectangles placed vertically \n",
    "def feature2v(x, y, width, height):\n",
    "    coords_x = [x, x+width, x, x+width,\n",
    "                x, x+width, x, x+width]\n",
    "    coords_y = [y, y, y+height, y+height,\n",
    "                y+height, y+height, y+2*height, y+2*height]\n",
    "    coeffs = [1, -1, -1, 1,\n",
    "              -1, 1, 1, -1]\n",
    "    return Feature('Two Vertical Features', x, y, width, 2*height, coords_x, coords_y, coeffs)\n",
    "\n",
    "\n",
    "## Three rectangles placed vertically \n",
    "def feature3v(x, y, width, height):\n",
    "    coords_x = [x, x+width, x, x+width,\n",
    "                x, x+width, x, x+width,\n",
    "                x, x+width, x, x+width]\n",
    "    coords_y = [y, y, y+height, y+height,\n",
    "                y+height, y+height, y+2*height, y+2*height,\n",
    "                y+2*height, y+2*height, y+3*height, y+3*height]\n",
    "    coeffs = [-1, 1, 1, -1,\n",
    "               1, -1, -1, 1,\n",
    "              -1, 1, 1, -1]\n",
    "    return Feature('Three Vertical', x, y, width, 3*height, coords_x, coords_y, coeffs)\n",
    "\n",
    "## Two rectangles placed horizontally \n",
    "def feature2h(x, y, width, height):\n",
    "    coords_x = [x, x+width, x, x+width,\n",
    "                x+width, x+2*width, x+width, x+2*width]\n",
    "    coords_y = [y, y, y+height, y+height,\n",
    "               y, y, y+height, y+height]\n",
    "    coeffs = [-1, 1, 1, -1,\n",
    "             1, -1, -1, 1]\n",
    "    return Feature('Two Horizontal Features', x, y, 2*width, height, coords_x, coords_y, coeffs)\n",
    "\n",
    "\n",
    "\n",
    "## Three rectangles placed horizontally \n",
    "def feature3h(x, y, width, height):\n",
    "    coords_x = [x, x+width, x, x+width,\n",
    "                x+width, x+2*width, x+width, x+2*width,\n",
    "                x+2*width, x+3*width, x+2*width, x+3*width]\n",
    "    coords_y = [y, y, y+height, y+height,\n",
    "                y, y, y+height, y+height,\n",
    "                y, y, y+height, y+height]\n",
    "    coeffs = [-1, 1, 1, -1,\n",
    "               1, -1, -1, 1,\n",
    "              -1, 1, 1, -1]\n",
    "    return Feature('Three Horizontal Features', x, y, 3*width, height, coords_x, coords_y, coeffs)\n",
    "\n",
    "\n",
    "## Four rectangles placed diagonally \n",
    "def feature4d(x, y, width, height):\n",
    "    coords_x = [x, x+width, x, x+width,\n",
    "                x+width, x+2*width, x+width, x+2*width,\n",
    "                x, x+width, x, x+width,\n",
    "                x+width, x+2*width, x+width, x+2*width]\n",
    "    coords_y = [y, y, y+height, y+height,\n",
    "                y, y, y+height, y+height,\n",
    "                y+height, y+height, y+2*height, y+2*height,\n",
    "                y+height, y+height, y+2*height, y+2*height]\n",
    "    coeffs = [-1, 1, 1, -1,\n",
    "               1, -1, -1, 1,\n",
    "               1, -1, -1, 1,\n",
    "              -1, 1, 1, -1]\n",
    "    return Feature('Four Diagonal Features', x, y, 2*width, 2*height, coords_x, coords_y, coeffs)\n"
   ]
  },
  {
   "cell_type": "code",
   "execution_count": 11,
   "metadata": {},
   "outputs": [],
   "source": [
    "def compute_feature(image, feature):\n",
    "    return np.sum(np.multiply(image[feature.coords_y, feature.coords_x], feature.coeffs))"
   ]
  },
  {
   "cell_type": "code",
   "execution_count": 12,
   "metadata": {},
   "outputs": [],
   "source": [
    "## Calculating integral image\n",
    "def calculate_integral_image(array):\n",
    "    s = np.zeros(array.shape)\n",
    "    ii = np.zeros(array.shape)\n",
    "    for x in range(array.shape[0]):\n",
    "        for y in range(0,array.shape[1]):\n",
    "            s[x,y] = s[x,y-1] + array[x,y] if y>0 else array[x,y]\n",
    "            ii[x,y] = ii[x-1,y] + s[x,y] if x>0 else s[x,y]\n",
    "    return np.pad(ii, (1, 1), 'constant', constant_values=(0, 0))[:-1, :-1]"
   ]
  },
  {
   "cell_type": "code",
   "execution_count": 13,
   "metadata": {},
   "outputs": [],
   "source": [
    "###### Finding shapes and positions of different haar features\n",
    "def find_features(image_shape):\n",
    "        height, width = image_shape\n",
    "        features = [[],[],[],[],[]]\n",
    "        names = ['Two Vertical Features', 'Two Horizontal Features', 'Three Vertical Features', 'Three Horizontal Features', 'Four Diagonal Features']\n",
    "        for i in range(width):\n",
    "            for j in range(height):\n",
    "                for w in range(1, width+1):\n",
    "                    for h in range(1, height+1):\n",
    "                        if i + w < width and j + h < height:\n",
    "                            if j + 2 * h < height:\n",
    "                                features[0].append(feature2v(i, j, w, h))\n",
    "                            if i + 2 * w < width: \n",
    "                                features[1].append(feature2h(i, j, w, h))\n",
    "                            if j + 3 * h < height: \n",
    "                                features[2].append(feature3v(i, j, w, h))\n",
    "\n",
    "                            if i + 3 * w < width:\n",
    "                                features[3].append(feature3h(i, j, w, h))\n",
    "                            \n",
    "                            if i + 2 * w < width and j + 2 * h < height:\n",
    "                                features[4].append(feature4d(i, j, w, h))\n",
    "        total_features = []\n",
    "        for i,fn in enumerate(names):\n",
    "            print('Feature %s with value: %d' % (names[i], len(features[i])))\n",
    "            total_features.extend(features[i])\n",
    "        print('Total Number of Features', len(total_features))\n",
    "        return total_features"
   ]
  },
  {
   "cell_type": "code",
   "execution_count": 14,
   "metadata": {},
   "outputs": [
    {
     "name": "stdout",
     "output_type": "stream",
     "text": [
      "Feature Two Vertical Features with value: 17100\n",
      "Feature Two Horizontal Features with value: 17100\n",
      "Feature Three Vertical Features with value: 10830\n",
      "Feature Three Horizontal Features with value: 10830\n",
      "Feature Four Diagonal Features with value: 8100\n",
      "Total Number of Features 63960\n"
     ]
    }
   ],
   "source": [
    "input_image = Image.open('Dataset/trainset/faces/face00001.png')\n",
    "input_integral = calculate_integral_image( np.array(input_image))\n",
    "total_features = find_features(input_integral.shape)"
   ]
  },
  {
   "cell_type": "markdown",
   "metadata": {},
   "source": [
    "## Build your Adaboost Detector "
   ]
  },
  {
   "cell_type": "markdown",
   "metadata": {},
   "source": [
    "### Extracting the train and test files which is of shape (Number of features * number of images in test/train)"
   ]
  },
  {
   "cell_type": "code",
   "execution_count": 15,
   "metadata": {},
   "outputs": [],
   "source": [
    "def image_to_array(img):\n",
    "    return np.array(img)\n",
    "def array_to_image(values):\n",
    "    return Image.fromarray(values)"
   ]
  },
  {
   "cell_type": "code",
   "execution_count": 54,
   "metadata": {},
   "outputs": [
    {
     "name": "stdout",
     "output_type": "stream",
     "text": [
      "Number of Training face files is: 499\n",
      "Number of Training non-face files is: 2000\n",
      "Train samples feature value matrix shape is (2499, 63960)\n",
      "Number of Testing face files is: 472\n",
      "Number of Testing non-face files is: 2001\n",
      "Test samples feature value matrix shape is (2473, 63960)\n"
     ]
    }
   ],
   "source": [
    "train_X = []\n",
    "train_Y = []\n",
    "\n",
    "faces_directory = \"Dataset/trainset/faces/\"\n",
    "face_files = glob.glob(os.path.join(faces_directory, '*.png'))\n",
    "print('Number of Training face files is:',len(face_files))\n",
    "\n",
    "\n",
    "non_faces_directory = \"Dataset/trainset/non-faces/\"\n",
    "non_faces_files = glob.glob(os.path.join(non_faces_directory, '*.png'))\n",
    "print('Number of Training non-face files is:',len(non_faces_files))\n",
    "\n",
    "\n",
    "for f in face_files:\n",
    "    data_x = image_to_array(Image.open(f))\n",
    "    data_integral= calculate_integral_image(data_x)\n",
    "        # compute all feature values for this image\n",
    "    feature_values = []\n",
    "    for f in total_features:\n",
    "        feature_values.append(compute_feature(data_integral, f))\n",
    "    train_X.append(feature_values)\n",
    "    train_Y.append(1.0)\n",
    "        \n",
    "for f in non_faces_files:\n",
    "    data_x = image_to_array(Image.open(f))\n",
    "    data_integral= calculate_integral_image(data_x)\n",
    "        # compute all feature values for this image\n",
    "    feature_values = []\n",
    "    for f in total_features:\n",
    "        feature_values.append(compute_feature(data_integral, f))\n",
    "    train_X.append(feature_values)\n",
    "    train_Y.append(0.0)\n",
    "        \n",
    "train_X = np.array(train_X)\n",
    "train_Y = np.array(train_Y)\n",
    "print('Train samples feature value matrix shape is',train_X.shape)\n",
    "train_X.dump('data_train-X')\n",
    "train_Y.dump('data_train-Y')\n",
    "\n",
    "test_X = []\n",
    "test_Y = []\n",
    "\n",
    "faces_test_directory = \"Dataset/testset/faces/\"\n",
    "face_test_files = glob.glob(os.path.join(faces_test_directory, '*.png'))\n",
    "print('Number of Testing face files is:',len(face_test_files))\n",
    "\n",
    "non_faces_test_directory = \"Dataset/testset/non-faces/\"\n",
    "non_faces_test_files = glob.glob(os.path.join(non_faces_test_directory, '*.png'))\n",
    "print('Number of Testing non-face files is:',len(non_faces_test_files))\n",
    "\n",
    "\n",
    "for f in face_test_files:\n",
    "    data_x = image_to_array(Image.open(f))\n",
    "    data_integral= calculate_integral_image(data_x)\n",
    "        # compute all feature values for this image\n",
    "    feature_values = []\n",
    "    for f in total_features:\n",
    "        feature_values.append(compute_feature(data_integral, f))\n",
    "    test_X.append(feature_values)\n",
    "    test_Y.append(1.0)\n",
    "        \n",
    "for f in non_faces_test_files:\n",
    "    data_x = image_to_array(Image.open(f))\n",
    "    data_integral= calculate_integral_image(data_x)\n",
    "        # compute all feature values for this image\n",
    "    feature_values = []\n",
    "    for f in total_features:\n",
    "        feature_values.append(compute_feature(data_integral, f))\n",
    "    test_X.append(feature_values)\n",
    "    test_Y.append(0.0)\n",
    "        \n",
    "test_X = np.array(test_X)\n",
    "test_Y = np.array(test_Y)\n",
    "print('Test samples feature value matrix shape is',test_X.shape)\n",
    "test_X.dump('data_test-X')\n",
    "test_Y.dump('data_test-Y')"
   ]
  },
  {
   "cell_type": "code",
   "execution_count": 16,
   "metadata": {},
   "outputs": [],
   "source": [
    "ClassifierResult = namedtuple('ClassifierResult', 'feature position polarity threshold classification_error')\n",
    "WeakClassifier = namedtuple('WeakClassifier', 'polarity threshold alpha classifier position')"
   ]
  },
  {
   "cell_type": "code",
   "execution_count": 9,
   "metadata": {},
   "outputs": [],
   "source": [
    "train_X = pickle.load( open( \"data_train-X\", \"rb\" ) )\n",
    "train_Y = pickle.load( open( \"data_train-Y\", \"rb\" ) )\n",
    "test_X = pickle.load( open( \"data_test-X\", \"rb\" ) )\n",
    "test_Y = pickle.load( open( \"data_test-Y\", \"rb\" ) )"
   ]
  },
  {
   "cell_type": "code",
   "execution_count": 10,
   "metadata": {},
   "outputs": [
    {
     "name": "stdout",
     "output_type": "stream",
     "text": [
      "(2499, 63960) (2499,)\n"
     ]
    }
   ],
   "source": [
    "print(train_X.shape, train_Y.shape)"
   ]
  },
  {
   "cell_type": "code",
   "execution_count": 11,
   "metadata": {},
   "outputs": [
    {
     "name": "stdout",
     "output_type": "stream",
     "text": [
      "(2473, 63960) (2473,)\n"
     ]
    }
   ],
   "source": [
    "print(test_X.shape, test_Y.shape)"
   ]
  },
  {
   "cell_type": "code",
   "execution_count": 12,
   "metadata": {},
   "outputs": [],
   "source": [
    "def adaboostTrain(train_X, train_Y, T, features, weights =None):\n",
    "    if weights is None:\n",
    "        faces = len(train_Y[train_Y > 0.5])\n",
    "        non_faces = len(train_Y[train_Y < 0.5])\n",
    "\n",
    "        weights = np.zeros(train_Y.shape)\n",
    "        weights[train_Y > 0.5] = 1.0/(2*faces)\n",
    "        weights[train_Y < 0.5] = 1.0/(2*non_faces)\n",
    "\n",
    "    weak_classifiers = []\n",
    "    for t in range(T):\n",
    "        start_time = time.time()\n",
    "        print('Weak classifier Round',t+1)\n",
    "        weights = weights / weights.sum()\n",
    "        # best weak classifier for this round\n",
    "        best = ClassifierResult(feature=None, position=0, polarity=0, threshold=0, classification_error=float('inf'))\n",
    "        processed = 1\n",
    "        print('Completed: ')\n",
    "        for i,f in enumerate(features):\n",
    "            result = apply_feature(f, i, train_X[:,i], train_Y, weights)\n",
    "            if result.classification_error < best.classification_error:\n",
    "                    best = result\n",
    "            processed += 1\n",
    "            if processed % 5000 == 0:\n",
    "                print(processed, end=' ')\n",
    "        beta = best.classification_error / (1 - best.classification_error)\n",
    "        alpha = np.log(1. / beta)\n",
    "        classifier = WeakClassifier(threshold=best.threshold, polarity=best.polarity, classifier=best.feature, position=best.position, alpha=alpha)\n",
    "        for i, (fx, y) in enumerate(zip(train_X[:,classifier.position], train_Y)):\n",
    "            h = weak_classifier(fx, classifier.polarity, classifier.threshold)\n",
    "            e = np.abs(h - y)\n",
    "            weights[i] = weights[i] * np.power(beta, 1-e)\n",
    "            \n",
    "        weak_classifiers.append(classifier)\n",
    "        time_now = time.time()\n",
    "        print('Time taken', (time_now - start_time))\n",
    "    return weak_classifiers"
   ]
  },
  {
   "cell_type": "code",
   "execution_count": 13,
   "metadata": {},
   "outputs": [],
   "source": [
    "def apply_feature(feature, position, train_fX, train_Y, weights):\n",
    "    threshold, polarity = determine_threshold_polarity(train_fX, train_Y, weights)\n",
    "    # Determine the classification error\n",
    "    error = 0.0\n",
    "    for fx, y, w in zip(train_fX, train_Y, weights):\n",
    "        h = weak_classifier(fx, polarity, threshold)\n",
    "        error += w * np.abs(h - y)\n",
    "            \n",
    "    return ClassifierResult(threshold=threshold, polarity=polarity, \n",
    "                            classification_error=error, feature=feature, position=position)"
   ]
  },
  {
   "cell_type": "code",
   "execution_count": 14,
   "metadata": {},
   "outputs": [],
   "source": [
    "def determine_threshold_polarity(data_y, weights, feature_val) :  \n",
    "    index = np.argsort(feature_val)\n",
    "    feature_val= feature_val[index]\n",
    "    data_y= data_y[index]\n",
    "    weights= weights[index]\n",
    "    total_minus, total_plus, running_minuses, running_pluses = calculate_running_sum(data_y, weights)\n",
    "    return best_feature_threshold(feature_val, total_minus, total_plus, running_minuses, running_pluses)"
   ]
  },
  {
   "cell_type": "code",
   "execution_count": 15,
   "metadata": {},
   "outputs": [],
   "source": [
    "def best_feature_threshold(feature_val, total_minus, total_plus, running_minuses, running_pluses):\n",
    "    min_thresh, polarity = 0, 0\n",
    "    min_e = float('inf')\n",
    "    for thres, e_m, e_p in zip(feature_val, running_minuses, running_pluses):\n",
    "        error_p = e_p + (total_minus - e_m)\n",
    "        error_m = e_m + (total_plus - e_p)\n",
    "        if error_p < min_e:\n",
    "            min_e = error_p\n",
    "            polarity = -1\n",
    "            min_thresh = thres\n",
    "\n",
    "        elif error_m < min_e:\n",
    "            min_e = error_m\n",
    "            polarity = 1\n",
    "            min_thresh = thres\n",
    "\n",
    "    return min_thresh, polarity"
   ]
  },
  {
   "cell_type": "code",
   "execution_count": 16,
   "metadata": {},
   "outputs": [],
   "source": [
    "def calculate_running_sum(data_y, weights):\n",
    "    running_minus, running_plus = 0.0, 0.0\n",
    "    total_minus, total_plus = 0.0, 0.0\n",
    "    running_minuses,  running_pluses = [], []\n",
    "    for output, weight in zip(data_y, weights):\n",
    "        if output > 0.5:\n",
    "            running_plus += weight\n",
    "            total_plus += weight\n",
    "        else:\n",
    "            running_minus += weight\n",
    "            total_minus += weight\n",
    "        running_minuses.append(running_minus)\n",
    "        running_pluses.append(running_plus)\n",
    "    return total_minus, total_plus, running_minuses, running_pluses"
   ]
  },
  {
   "cell_type": "code",
   "execution_count": 17,
   "metadata": {},
   "outputs": [],
   "source": [
    "def weak_classifier(fx, polarity, threshold):\n",
    "    ## as per definition of weak classifier\n",
    "    if(polarity * fx) < (polarity*threshold): \n",
    "        return 1\n",
    "    return 0"
   ]
  },
  {
   "cell_type": "markdown",
   "metadata": {},
   "source": [
    "## Training for different rounds "
   ]
  },
  {
   "cell_type": "code",
   "execution_count": 30,
   "metadata": {},
   "outputs": [
    {
     "name": "stdout",
     "output_type": "stream",
     "text": [
      "Training Started\n",
      "Weak classifier Round 1\n",
      "Completed: \n",
      "5000 10000 15000 20000 25000 30000 \n",
      "Time taken 302.6230311393738\n"
     ]
    }
   ],
   "source": [
    "print('Training Started')\n",
    "weak_classifiers_t1 = adaboostTrain(train_X, train_Y, 1, total_features)\n",
    "with open('weak_classifiers_t1.pkl', 'wb') as f:\n",
    "        pickle.dump(weak_classifiers_t1, f)"
   ]
  },
  {
   "cell_type": "code",
   "execution_count": 32,
   "metadata": {},
   "outputs": [
    {
     "name": "stdout",
     "output_type": "stream",
     "text": [
      "[WeakClassifier(polarity=-1, threshold=0.00025, alpha=1.2165390200872, classifier=Feature(name='Two Horizontal Features', x=7, y=6, width=12, height=10, coords_x=[7, 13, 7, 13, 13, 19, 13, 19], coords_y=[6, 6, 16, 16, 6, 6, 16, 16], coeffs=[-1, 1, 1, -1, 1, -1, -1, 1]), position=28028)]\n"
     ]
    }
   ],
   "source": [
    "print(weak_classifiers_t1)"
   ]
  },
  {
   "cell_type": "code",
   "execution_count": 33,
   "metadata": {},
   "outputs": [
    {
     "name": "stdout",
     "output_type": "stream",
     "text": [
      "Training Started\n",
      "Weak classifier Round 1\n",
      "Completed: \n",
      "5000 10000 15000 20000 25000 30000 35000 40000 45000 50000 55000 60000 \n",
      "Time taken 612.2144219875336\n",
      "Weak classifier Round 2\n",
      "Completed: \n",
      "5000 10000 15000 20000 25000 30000 35000 40000 45000 50000 55000 60000 \n",
      "Time taken 1219.707447052002\n",
      "Weak classifier Round 3\n",
      "Completed: \n",
      "5000 10000 15000 20000 25000 30000 35000 40000 45000 50000 55000 60000 \n",
      "Time taken 1820.9375336170197\n"
     ]
    }
   ],
   "source": [
    "print('Training Started')\n",
    "weak_classifiers_t3 = adaboostTrain(train_X, train_Y, 3, total_features)\n",
    "with open('weak_classifiers_t3.pkl', 'wb') as f:\n",
    "        pickle.dump(weak_classifiers_t3, f)"
   ]
  },
  {
   "cell_type": "code",
   "execution_count": 34,
   "metadata": {},
   "outputs": [
    {
     "name": "stdout",
     "output_type": "stream",
     "text": [
      "[WeakClassifier(polarity=-1, threshold=0.00025, alpha=1.2165390200872, classifier=Feature(name='Two Horizontal Features', x=7, y=6, width=12, height=10, coords_x=[7, 13, 7, 13, 13, 19, 13, 19], coords_y=[6, 6, 16, 16, 6, 6, 16, 16], coeffs=[-1, 1, 1, -1, 1, -1, -1, 1]), position=28028), WeakClassifier(polarity=1, threshold=0.0006494257128421341, alpha=0.9550542896694941, classifier=Feature(name='Two Vertical Features', x=5, y=14, width=2, height=4, coords_x=[5, 7, 5, 7, 5, 7, 5, 7], coords_y=[14, 14, 16, 16, 16, 16, 18, 18], coeffs=[1, -1, -1, 1, -1, 1, 1, -1]), position=8829), WeakClassifier(polarity=-1, threshold=0.0015178189805250537, alpha=0.8468125295076987, classifier=Feature(name='Three Horizontal Features', x=5, y=2, width=9, height=1, coords_x=[5, 8, 5, 8, 8, 11, 8, 11, 11, 14, 11, 14], coords_y=[2, 2, 3, 3, 2, 2, 3, 3, 2, 2, 3, 3], coeffs=[-1, 1, 1, -1, 1, -1, -1, 1, -1, 1, 1, -1]), position=50342)]\n"
     ]
    }
   ],
   "source": [
    "print(weak_classifiers_t3)"
   ]
  },
  {
   "cell_type": "code",
   "execution_count": 35,
   "metadata": {},
   "outputs": [
    {
     "name": "stdout",
     "output_type": "stream",
     "text": [
      "Training Started\n",
      "Weak classifier Round 1\n",
      "Completed: \n",
      "5000 10000 15000 20000 25000 30000 35000 40000 45000 50000 55000 60000 \n",
      "Time taken 604.4594006538391\n",
      "Weak classifier Round 2\n",
      "Completed: \n",
      "5000 10000 15000 20000 25000 30000 35000 40000 45000 50000 55000 60000 \n",
      "Time taken 1202.868344783783\n",
      "Weak classifier Round 3\n",
      "Completed: \n",
      "5000 10000 15000 20000 25000 30000 35000 40000 45000 50000 55000 60000 \n",
      "Time taken 1793.9267752170563\n",
      "Weak classifier Round 4\n",
      "Completed: \n",
      "5000 10000 15000 20000 25000 30000 35000 40000 45000 50000 55000 60000 \n",
      "Time taken 2381.163828611374\n",
      "Weak classifier Round 5\n",
      "Completed: \n",
      "5000 10000 15000 20000 25000 30000 35000 40000 45000 50000 55000 60000 \n",
      "Time taken 2966.9337134361267\n"
     ]
    }
   ],
   "source": [
    "print('Training Started')\n",
    "weak_classifiers_t5 = adaboostTrain(train_X, train_Y, 5, total_features)\n",
    "with open('weak_classifiers_t5.pkl', 'wb') as f:\n",
    "        pickle.dump(weak_classifiers_t5, f)"
   ]
  },
  {
   "cell_type": "code",
   "execution_count": 36,
   "metadata": {},
   "outputs": [
    {
     "name": "stdout",
     "output_type": "stream",
     "text": [
      "[WeakClassifier(polarity=-1, threshold=0.00025, alpha=1.2165390200872, classifier=Feature(name='Two Horizontal Features', x=7, y=6, width=12, height=10, coords_x=[7, 13, 7, 13, 13, 19, 13, 19], coords_y=[6, 6, 16, 16, 6, 6, 16, 16], coeffs=[-1, 1, 1, -1, 1, -1, -1, 1]), position=28028), WeakClassifier(polarity=1, threshold=0.0006494257128421341, alpha=0.9550542896694941, classifier=Feature(name='Two Vertical Features', x=5, y=14, width=2, height=4, coords_x=[5, 7, 5, 7, 5, 7, 5, 7], coords_y=[14, 14, 16, 16, 16, 16, 18, 18], coeffs=[1, -1, -1, 1, -1, 1, 1, -1]), position=8829), WeakClassifier(polarity=-1, threshold=0.0015178189805250537, alpha=0.8468125295076987, classifier=Feature(name='Three Horizontal Features', x=5, y=2, width=9, height=1, coords_x=[5, 8, 5, 8, 8, 11, 8, 11, 11, 14, 11, 14], coords_y=[2, 2, 3, 3, 2, 2, 3, 3, 2, 2, 3, 3], coeffs=[-1, 1, 1, -1, 1, -1, -1, 1, -1, 1, 1, -1]), position=50342), WeakClassifier(polarity=1, threshold=8.014742134524864e-05, alpha=0.9754101903105796, classifier=Feature(name='Two Horizontal Features', x=6, y=5, width=2, height=8, coords_x=[6, 7, 6, 7, 7, 8, 7, 8], coords_y=[5, 5, 13, 13, 5, 5, 13, 13], coeffs=[-1, 1, 1, -1, 1, -1, -1, 1]), position=26737), WeakClassifier(polarity=-1, threshold=5.5183008958194575e-05, alpha=0.7989871114474464, classifier=Feature(name='Two Vertical Features', x=16, y=17, width=1, height=2, coords_x=[16, 17, 16, 17, 16, 17, 16, 17], coords_y=[17, 17, 18, 18, 18, 18, 19, 19], coeffs=[1, -1, -1, 1, -1, 1, 1, -1]), position=16827)]\n"
     ]
    }
   ],
   "source": [
    "print(weak_classifiers_t5)"
   ]
  },
  {
   "cell_type": "code",
   "execution_count": 37,
   "metadata": {},
   "outputs": [
    {
     "name": "stdout",
     "output_type": "stream",
     "text": [
      "Training Started\n",
      "Weak classifier Round 1\n",
      "Completed: \n",
      "5000 10000 15000 20000 25000 30000 35000 40000 45000 50000 55000 60000 \n",
      "Time taken 604.5669097900391\n",
      "Weak classifier Round 2\n",
      "Completed: \n",
      "5000 10000 15000 20000 25000 30000 35000 40000 45000 50000 55000 60000 \n",
      "Time taken 1198.9835255146027\n",
      "Weak classifier Round 3\n",
      "Completed: \n",
      "5000 10000 15000 20000 25000 30000 35000 40000 45000 50000 55000 60000 \n",
      "Time taken 1789.7440819740295\n",
      "Weak classifier Round 4\n",
      "Completed: \n",
      "5000 10000 15000 20000 25000 30000 35000 40000 45000 50000 55000 60000 \n",
      "Time taken 2378.2077338695526\n",
      "Weak classifier Round 5\n",
      "Completed: \n",
      "5000 10000 15000 20000 25000 30000 35000 40000 45000 50000 55000 60000 \n",
      "Time taken 2965.0958666801453\n",
      "Weak classifier Round 6\n",
      "Completed: \n",
      "5000 10000 15000 20000 25000 30000 35000 40000 45000 50000 55000 60000 \n",
      "Time taken 3548.5311064720154\n",
      "Weak classifier Round 7\n",
      "Completed: \n",
      "5000 10000 15000 20000 25000 30000 35000 40000 45000 50000 55000 60000 \n",
      "Time taken 4133.637430429459\n",
      "Weak classifier Round 8\n",
      "Completed: \n",
      "5000 10000 15000 20000 25000 30000 35000 40000 45000 50000 55000 60000 \n",
      "Time taken 4719.4600574970245\n",
      "Weak classifier Round 9\n",
      "Completed: \n",
      "5000 10000 15000 20000 25000 30000 35000 40000 45000 50000 55000 60000 \n",
      "Time taken 5305.268047332764\n",
      "Weak classifier Round 10\n",
      "Completed: \n",
      "5000 10000 15000 20000 25000 30000 35000 40000 45000 50000 55000 60000 \n",
      "Time taken 5887.8868498802185\n"
     ]
    }
   ],
   "source": [
    "print('Training Started')\n",
    "weak_classifiers_t10 = adaboostTrain(train_X, train_Y, 10, total_features)\n",
    "with open('weak_classifiers_t10.pkl', 'wb') as f:\n",
    "        pickle.dump(weak_classifiers_t10, f)"
   ]
  },
  {
   "cell_type": "code",
   "execution_count": 39,
   "metadata": {},
   "outputs": [
    {
     "name": "stdout",
     "output_type": "stream",
     "text": [
      "[WeakClassifier(polarity=-1, threshold=0.00025, alpha=1.2165390200872, classifier=Feature(name='Two Horizontal Features', x=7, y=6, width=12, height=10, coords_x=[7, 13, 7, 13, 13, 19, 13, 19], coords_y=[6, 6, 16, 16, 6, 6, 16, 16], coeffs=[-1, 1, 1, -1, 1, -1, -1, 1]), position=28028), WeakClassifier(polarity=1, threshold=0.0006494257128421341, alpha=0.9550542896694941, classifier=Feature(name='Two Vertical Features', x=5, y=14, width=2, height=4, coords_x=[5, 7, 5, 7, 5, 7, 5, 7], coords_y=[14, 14, 16, 16, 16, 16, 18, 18], coeffs=[1, -1, -1, 1, -1, 1, 1, -1]), position=8829), WeakClassifier(polarity=-1, threshold=0.0015178189805250537, alpha=0.8468125295076987, classifier=Feature(name='Three Horizontal Features', x=5, y=2, width=9, height=1, coords_x=[5, 8, 5, 8, 8, 11, 8, 11, 11, 14, 11, 14], coords_y=[2, 2, 3, 3, 2, 2, 3, 3, 2, 2, 3, 3], coeffs=[-1, 1, 1, -1, 1, -1, -1, 1, -1, 1, 1, -1]), position=50342), WeakClassifier(polarity=1, threshold=8.014742134524864e-05, alpha=0.9754101903105796, classifier=Feature(name='Two Horizontal Features', x=6, y=5, width=2, height=8, coords_x=[6, 7, 6, 7, 7, 8, 7, 8], coords_y=[5, 5, 13, 13, 5, 5, 13, 13], coeffs=[-1, 1, 1, -1, 1, -1, -1, 1]), position=26737), WeakClassifier(polarity=-1, threshold=5.5183008958194575e-05, alpha=0.7989871114474464, classifier=Feature(name='Two Vertical Features', x=16, y=17, width=1, height=2, coords_x=[16, 17, 16, 17, 16, 17, 16, 17], coords_y=[17, 17, 18, 18, 18, 18, 19, 19], coeffs=[1, -1, -1, 1, -1, 1, 1, -1]), position=16827), WeakClassifier(polarity=-1, threshold=0.002577296053044992, alpha=0.8088189201722467, classifier=Feature(name='Three Vertical', x=2, y=0, width=1, height=9, coords_x=[2, 3, 2, 3, 2, 3, 2, 3, 2, 3, 2, 3], coords_y=[0, 0, 3, 3, 3, 3, 6, 6, 6, 6, 9, 9], coeffs=[-1, 1, 1, -1, 1, -1, -1, 1, -1, 1, 1, -1]), position=36311), WeakClassifier(polarity=-1, threshold=2.890892634853009e-05, alpha=1.0391332591679168, classifier=Feature(name='Two Horizontal Features', x=7, y=10, width=2, height=7, coords_x=[7, 8, 7, 8, 8, 9, 8, 9], coords_y=[10, 10, 17, 17, 10, 10, 17, 17], coeffs=[-1, 1, 1, -1, 1, -1, -1, 1]), position=28236), WeakClassifier(polarity=1, threshold=1.9567890954909084e-05, alpha=0.6813644755173841, classifier=Feature(name='Two Horizontal Features', x=9, y=9, width=4, height=1, coords_x=[9, 11, 9, 11, 11, 13, 11, 13], coords_y=[9, 9, 10, 10, 9, 9, 10, 10], coeffs=[-1, 1, 1, -1, 1, -1, -1, 1]), position=30135), WeakClassifier(polarity=-1, threshold=0.0022716604308954933, alpha=0.9571719476751134, classifier=Feature(name='Three Vertical', x=4, y=0, width=1, height=3, coords_x=[4, 5, 4, 5, 4, 5, 4, 5, 4, 5, 4, 5], coords_y=[0, 0, 1, 1, 1, 1, 2, 2, 2, 2, 3, 3], coeffs=[-1, 1, 1, -1, 1, -1, -1, 1, -1, 1, 1, -1]), position=38190), WeakClassifier(polarity=-1, threshold=1.0195691139959413e-05, alpha=0.9783813105048756, classifier=Feature(name='Four Diagonal Features', x=8, y=3, width=2, height=14, coords_x=[8, 9, 8, 9, 9, 10, 9, 10, 8, 9, 8, 9, 9, 10, 9, 10], coords_y=[3, 3, 10, 10, 3, 3, 10, 10, 10, 10, 17, 17, 10, 10, 17, 17], coeffs=[-1, 1, 1, -1, 1, -1, -1, 1, 1, -1, -1, 1, -1, 1, 1, -1]), position=61396)]\n"
     ]
    }
   ],
   "source": [
    "print(weak_classifiers_t10)"
   ]
  },
  {
   "cell_type": "code",
   "execution_count": 15,
   "metadata": {},
   "outputs": [
    {
     "name": "stdout",
     "output_type": "stream",
     "text": [
      "Training Started\n",
      "Weak classifier Round 1\n",
      "Completed: \n",
      "5000 10000 15000 20000 25000 30000 35000 40000 45000 50000 55000 60000 \n",
      "Time taken 443.47032737731934\n",
      "Weak classifier Round 2\n",
      "Completed: \n",
      "5000 10000 15000 20000 25000 30000 35000 40000 45000 50000 55000 60000 \n",
      "Time taken 886.9323117733002\n",
      "Weak classifier Round 3\n",
      "Completed: \n",
      "5000 10000 15000 20000 25000 30000 35000 40000 45000 50000 55000 60000 \n",
      "Time taken 1330.3267273902893\n",
      "Weak classifier Round 4\n",
      "Completed: \n",
      "5000 10000 15000 20000 25000 30000 35000 40000 45000 50000 55000 60000 \n",
      "Time taken 1774.1792905330658\n",
      "Weak classifier Round 5\n",
      "Completed: \n",
      "5000 10000 15000 20000 25000 30000 35000 40000 45000 50000 55000 60000 \n",
      "Time taken 2220.7268681526184\n",
      "Weak classifier Round 6\n",
      "Completed: \n",
      "5000 10000 15000 20000 25000 30000 35000 40000 45000 50000 55000 60000 \n",
      "Time taken 2670.2051949501038\n",
      "Weak classifier Round 7\n",
      "Completed: \n",
      "5000 10000 15000 20000 25000 30000 35000 40000 45000 50000 55000 60000 \n",
      "Time taken 3119.742525100708\n",
      "Weak classifier Round 8\n",
      "Completed: \n",
      "5000 10000 15000 20000 25000 30000 35000 40000 45000 50000 55000 60000 \n",
      "Time taken 3568.62331199646\n",
      "Weak classifier Round 9\n",
      "Completed: \n",
      "5000 10000 15000 20000 25000 30000 35000 40000 45000 50000 55000 60000 \n",
      "Time taken 4019.6460444927216\n",
      "Weak classifier Round 10\n",
      "Completed: \n",
      "5000 10000 15000 20000 25000 30000 35000 40000 45000 50000 55000 60000 \n",
      "Time taken 4469.572313785553\n",
      "Weak classifier Round 11\n",
      "Completed: \n",
      "5000 10000 15000 20000 25000 30000 35000 40000 45000 50000 55000 60000 \n",
      "Time taken 4920.47511100769\n",
      "Weak classifier Round 12\n",
      "Completed: \n",
      "5000 10000 15000 20000 25000 30000 35000 40000 45000 50000 55000 60000 \n",
      "Time taken 5374.215853691101\n",
      "Weak classifier Round 13\n",
      "Completed: \n",
      "5000 10000 15000 20000 25000 30000 35000 40000 45000 50000 55000 60000 \n",
      "Time taken 5827.864787578583\n",
      "Weak classifier Round 14\n",
      "Completed: \n",
      "5000 10000 15000 20000 25000 30000 35000 40000 45000 50000 55000 60000 \n",
      "Time taken 6277.026607275009\n",
      "Weak classifier Round 15\n",
      "Completed: \n",
      "5000 10000 15000 20000 25000 30000 35000 40000 45000 50000 55000 60000 \n",
      "Time taken 6726.500312805176\n",
      "Weak classifier Round 16\n",
      "Completed: \n",
      "5000 10000 15000 20000 25000 30000 35000 40000 45000 50000 55000 60000 \n",
      "Time taken 7174.7284719944\n",
      "Weak classifier Round 17\n",
      "Completed: \n",
      "5000 10000 15000 20000 25000 30000 35000 40000 45000 50000 55000 60000 \n",
      "Time taken 7621.408055305481\n",
      "Weak classifier Round 18\n",
      "Completed: \n",
      "5000 10000 15000 20000 25000 30000 35000 40000 45000 50000 55000 60000 \n",
      "Time taken 8068.741056680679\n",
      "Weak classifier Round 19\n",
      "Completed: \n",
      "5000 10000 15000 20000 25000 30000 35000 40000 45000 50000 55000 60000 \n",
      "Time taken 8521.277404785156\n",
      "Weak classifier Round 20\n",
      "Completed: \n",
      "5000 10000 15000 20000 25000 30000 35000 40000 45000 50000 55000 60000 \n",
      "Time taken 8969.384346961975\n",
      "Weak classifier Round 21\n",
      "Completed: \n",
      "5000 10000 15000 20000 25000 30000 35000 40000 45000 50000 55000 60000 \n",
      "Time taken 9416.230561256409\n",
      "Weak classifier Round 22\n",
      "Completed: \n",
      "5000 10000 15000 20000 25000 30000 35000 40000 45000 50000 55000 60000 \n",
      "Time taken 9863.396484851837\n",
      "Weak classifier Round 23\n",
      "Completed: \n",
      "5000 10000 15000 20000 25000 30000 35000 40000 45000 50000 55000 60000 \n",
      "Time taken 10309.809384584427\n",
      "Weak classifier Round 24\n",
      "Completed: \n",
      "5000 10000 15000 20000 25000 30000 35000 40000 45000 50000 55000 60000 \n",
      "Time taken 10755.10833454132\n",
      "Weak classifier Round 25\n",
      "Completed: \n",
      "5000 10000 15000 20000 25000 30000 35000 40000 45000 50000 55000 60000 \n",
      "Time taken 11202.68607711792\n"
     ]
    }
   ],
   "source": [
    "print('Training Started')\n",
    "weak_classifiers_t25 = adaboostTrain(train_X, train_Y, 25, total_features)\n",
    "with open('weak_classifiers_t25.pkl', 'wb') as f:\n",
    "        pickle.dump(weak_classifiers_t25, f)"
   ]
  },
  {
   "cell_type": "code",
   "execution_count": 32,
   "metadata": {},
   "outputs": [
    {
     "name": "stdout",
     "output_type": "stream",
     "text": [
      "Training Started\n",
      "Weak classifier Round 1\n",
      "Completed: \n",
      "5000 10000 15000 20000 25000 30000 35000 40000 45000 50000 55000 60000 Time taken 440.28538393974304\n",
      "Weak classifier Round 2\n",
      "Completed: \n",
      "5000 10000 15000 20000 25000 30000 35000 40000 45000 50000 55000 60000 Time taken 442.8167188167572\n",
      "Weak classifier Round 3\n",
      "Completed: \n",
      "5000 10000 15000 20000 25000 30000 35000 40000 45000 50000 55000 60000 Time taken 456.19665145874023\n",
      "Weak classifier Round 4\n",
      "Completed: \n",
      "5000 10000 15000 20000 25000 30000 35000 40000 45000 50000 55000 60000 Time taken 456.1645886898041\n",
      "Weak classifier Round 5\n",
      "Completed: \n",
      "5000 10000 15000 20000 25000 30000 35000 40000 45000 50000 55000 60000 Time taken 456.3518624305725\n",
      "Weak classifier Round 6\n",
      "Completed: \n",
      "5000 10000 15000 20000 25000 30000 35000 40000 45000 50000 55000 60000 Time taken 458.61493945121765\n",
      "Weak classifier Round 7\n",
      "Completed: \n",
      "5000 10000 15000 20000 25000 30000 35000 40000 45000 50000 55000 60000 Time taken 460.10176396369934\n",
      "Weak classifier Round 8\n",
      "Completed: \n",
      "5000 10000 15000 20000 25000 30000 35000 40000 45000 50000 55000 60000 Time taken 462.31155920028687\n",
      "Weak classifier Round 9\n",
      "Completed: \n",
      "5000 10000 15000 20000 25000 30000 35000 40000 45000 50000 55000 60000 Time taken 463.6075232028961\n",
      "Weak classifier Round 10\n",
      "Completed: \n",
      "5000 10000 15000 20000 25000 30000 35000 40000 45000 50000 55000 60000 Time taken 463.0845379829407\n",
      "Weak classifier Round 11\n",
      "Completed: \n",
      "5000 10000 15000 20000 25000 30000 35000 40000 45000 50000 55000 60000 Time taken 466.3867678642273\n",
      "Weak classifier Round 12\n",
      "Completed: \n",
      "5000 10000 15000 20000 25000 30000 35000 40000 45000 50000 55000 60000 Time taken 461.2854838371277\n",
      "Weak classifier Round 13\n",
      "Completed: \n",
      "5000 10000 15000 20000 25000 30000 35000 40000 45000 50000 55000 60000 Time taken 461.3727385997772\n",
      "Weak classifier Round 14\n",
      "Completed: \n",
      "5000 10000 15000 20000 25000 30000 35000 40000 45000 50000 55000 60000 Time taken 462.6006295681\n",
      "Weak classifier Round 15\n",
      "Completed: \n",
      "5000 10000 15000 20000 25000 30000 35000 40000 45000 50000 55000 60000 Time taken 463.5406572818756\n",
      "Weak classifier Round 16\n",
      "Completed: \n",
      "5000 10000 15000 20000 25000 30000 35000 40000 45000 50000 55000 60000 Time taken 451.7517650127411\n",
      "Weak classifier Round 17\n",
      "Completed: \n",
      "5000 10000 15000 20000 25000 30000 35000 40000 45000 50000 55000 60000 Time taken 449.72067308425903\n",
      "Weak classifier Round 18\n",
      "Completed: \n",
      "5000 10000 15000 20000 25000 30000 35000 40000 45000 50000 55000 60000 Time taken 448.139187335968\n",
      "Weak classifier Round 19\n",
      "Completed: \n",
      "5000 10000 15000 20000 25000 30000 35000 40000 45000 50000 55000 60000 Time taken 454.6634566783905\n",
      "Weak classifier Round 20\n",
      "Completed: \n",
      "5000 10000 15000 20000 25000 30000 35000 40000 45000 50000 55000 60000 Time taken 463.5920877456665\n",
      "Weak classifier Round 21\n",
      "Completed: \n",
      "5000 10000 15000 20000 25000 30000 35000 40000 45000 50000 55000 60000 Time taken 463.96417117118835\n",
      "Weak classifier Round 22\n",
      "Completed: \n",
      "5000 10000 15000 20000 25000 30000 35000 40000 45000 50000 55000 60000 Time taken 464.8735327720642\n",
      "Weak classifier Round 23\n",
      "Completed: \n",
      "5000 10000 15000 20000 25000 30000 35000 40000 45000 50000 55000 60000 Time taken 468.0473437309265\n",
      "Weak classifier Round 24\n",
      "Completed: \n",
      "5000 10000 15000 20000 25000 30000 35000 40000 45000 50000 55000 60000 Time taken 469.310937166214\n",
      "Weak classifier Round 25\n",
      "Completed: \n",
      "5000 10000 15000 20000 25000 30000 35000 40000 45000 50000 55000 60000 Time taken 466.036984205246\n",
      "Weak classifier Round 26\n",
      "Completed: \n",
      "5000 10000 15000 20000 25000 30000 35000 40000 45000 50000 55000 60000 Time taken 459.35476088523865\n",
      "Weak classifier Round 27\n",
      "Completed: \n",
      "5000 10000 15000 20000 25000 30000 35000 40000 45000 50000 55000 60000 Time taken 464.0381922721863\n",
      "Weak classifier Round 28\n",
      "Completed: \n",
      "5000 10000 15000 20000 25000 30000 35000 40000 45000 50000 55000 60000 Time taken 463.9799072742462\n",
      "Weak classifier Round 29\n",
      "Completed: \n",
      "5000 10000 15000 20000 25000 30000 35000 40000 45000 50000 55000 60000 Time taken 470.30085706710815\n",
      "Weak classifier Round 30\n",
      "Completed: \n",
      "5000 10000 15000 20000 25000 30000 35000 40000 45000 50000 55000 60000 Time taken 468.207617521286\n",
      "Weak classifier Round 31\n",
      "Completed: \n",
      "5000 10000 15000 20000 25000 30000 35000 40000 45000 50000 55000 60000 Time taken 464.20223331451416\n",
      "Weak classifier Round 32\n",
      "Completed: \n",
      "5000 10000 15000 20000 25000 30000 35000 40000 45000 50000 55000 60000 Time taken 466.2804787158966\n",
      "Weak classifier Round 33\n",
      "Completed: \n",
      "5000 10000 15000 20000 25000 30000 35000 40000 45000 50000 55000 60000 Time taken 472.6897711753845\n",
      "Weak classifier Round 34\n",
      "Completed: \n",
      "5000 10000 15000 20000 25000 30000 35000 40000 45000 50000 55000 60000 Time taken 472.12090730667114\n",
      "Weak classifier Round 35\n",
      "Completed: \n",
      "5000 10000 15000 20000 25000 30000 35000 40000 45000 50000 55000 60000 Time taken 468.38442945480347\n",
      "Weak classifier Round 36\n",
      "Completed: \n",
      "5000 10000 15000 20000 25000 30000 35000 40000 45000 50000 55000 60000 Time taken 471.4682698249817\n",
      "Weak classifier Round 37\n",
      "Completed: \n",
      "5000 10000 15000 20000 25000 30000 35000 40000 45000 50000 55000 60000 Time taken 459.9907376766205\n",
      "Weak classifier Round 38\n",
      "Completed: \n",
      "5000 10000 15000 20000 25000 30000 35000 40000 45000 50000 55000 60000 Time taken 451.182213306427\n",
      "Weak classifier Round 39\n",
      "Completed: \n",
      "5000 10000 15000 20000 25000 30000 35000 40000 45000 50000 55000 60000 Time taken 451.7203891277313\n",
      "Weak classifier Round 40\n",
      "Completed: \n",
      "5000 10000 15000 20000 25000 30000 35000 40000 45000 50000 55000 60000 Time taken 445.9453070163727\n",
      "Weak classifier Round 41\n",
      "Completed: \n",
      "5000 10000 15000 20000 25000 30000 35000 40000 45000 50000 55000 60000 Time taken 452.10794043540955\n",
      "Weak classifier Round 42\n",
      "Completed: \n",
      "5000 10000 15000 20000 25000 30000 35000 40000 45000 50000 55000 60000 Time taken 449.468576669693\n",
      "Weak classifier Round 43\n",
      "Completed: \n",
      "5000 10000 15000 20000 25000 30000 35000 40000 45000 50000 55000 60000 Time taken 462.2685582637787\n",
      "Weak classifier Round 44\n",
      "Completed: \n",
      "5000 10000 15000 20000 25000 30000 35000 40000 45000 50000 55000 60000 Time taken 461.41915225982666\n",
      "Weak classifier Round 45\n",
      "Completed: \n",
      "5000 10000 15000 20000 25000 30000 35000 40000 45000 50000 55000 60000 Time taken 464.4663755893707\n",
      "Weak classifier Round 46\n",
      "Completed: \n",
      "5000 10000 15000 20000 25000 30000 35000 40000 45000 50000 55000 60000 Time taken 468.4123899936676\n",
      "Weak classifier Round 47\n",
      "Completed: \n",
      "5000 10000 15000 20000 25000 30000 35000 40000 45000 50000 55000 60000 Time taken 462.0002598762512\n",
      "Weak classifier Round 48\n",
      "Completed: \n",
      "5000 10000 15000 20000 25000 30000 35000 40000 45000 50000 55000 60000 Time taken 447.7982268333435\n",
      "Weak classifier Round 49\n",
      "Completed: \n",
      "5000 10000 15000 20000 25000 30000 35000 40000 45000 50000 55000 60000 Time taken 447.76275181770325\n",
      "Weak classifier Round 50\n",
      "Completed: \n",
      "5000 10000 15000 20000 25000 30000 35000 40000 45000 50000 55000 60000 Time taken 444.6175880432129\n"
     ]
    }
   ],
   "source": [
    "print('Training Started')\n",
    "weak_classifiers_t50 = adaboostTrain(train_X, train_Y, 50, total_features)\n",
    "with open('weak_classifiers_t50.pkl', 'wb') as f:\n",
    "        pickle.dump(weak_classifiers_t50, f)"
   ]
  },
  {
   "cell_type": "markdown",
   "metadata": {},
   "source": [
    "## Calculating Performance for different rounds using Strong Classifier"
   ]
  },
  {
   "cell_type": "code",
   "execution_count": 42,
   "metadata": {},
   "outputs": [],
   "source": [
    "def strong_classifier(x, weak_classifiers):\n",
    "    lhs = 0.0\n",
    "    rhs = 0.0\n",
    "    for wc in weak_classifiers:\n",
    "        lhs += wc.alpha * weak_classifier(x[wc.position], wc.polarity, wc.threshold)\n",
    "        rhs += wc.alpha\n",
    "    if lhs >= 0.5*rhs:  ## as per definition of strong classifier\n",
    "        return 1\n",
    "    else:\n",
    "        return 0"
   ]
  },
  {
   "cell_type": "code",
   "execution_count": 24,
   "metadata": {},
   "outputs": [],
   "source": [
    "test_X = pickle.load( open( \"data_test-X\", \"rb\" ) )\n",
    "test_Y = pickle.load( open( \"data_test-Y\", \"rb\" ) )"
   ]
  },
  {
   "cell_type": "code",
   "execution_count": 40,
   "metadata": {},
   "outputs": [],
   "source": [
    "def evaluate_performance(data_X, data_Y, weak_classifiers):\n",
    "    y_predicted = []\n",
    "    for x in data_X:\n",
    "        y_predicted.append(strong_classifier(x, weak_classifiers))\n",
    "    return performance(data_Y,y_predicted)"
   ]
  },
  {
   "cell_type": "code",
   "execution_count": 43,
   "metadata": {},
   "outputs": [],
   "source": [
    "def performance(data_test_y, y_predicted):\n",
    "    tn, fp, fn, tp = confusion_matrix(data_test_y, y_predicted).ravel()\n",
    "    acc = accuracy_score(data_test_y, y_predicted)\n",
    "    fpr = fp/(fp+tn)\n",
    "    fnr = fn/(tp+fn)\n",
    "    return acc, fpr, fnr"
   ]
  },
  {
   "cell_type": "code",
   "execution_count": 24,
   "metadata": {},
   "outputs": [
    {
     "name": "stdout",
     "output_type": "stream",
     "text": [
      "Performance for round:  1\n",
      "On train(ACC, FPR and FNR) : (0.6618647458983593, 0.411, 0.04609218436873747)\n",
      "On test(ACC, FPR and FNR) : (0.4585523655479175, 0.5827086456771614, 0.3665254237288136)\n",
      "Performance for round:  3\n",
      "On train(ACC, FPR and FNR) : (0.8231292517006803, 0.173, 0.19238476953907815)\n",
      "On test(ACC, FPR and FNR) : (0.6122118883946623, 0.2983508245877061, 0.7669491525423728)\n",
      "Performance for round:  5\n",
      "On train(ACC, FPR and FNR) : (0.8355342136854742, 0.1965, 0.036072144288577156)\n",
      "On test(ACC, FPR and FNR) : (0.5818843509906996, 0.3373313343328336, 0.760593220338983)\n",
      "Performance for round:  10\n",
      "On train(ACC, FPR and FNR) : (0.9003601440576231, 0.124, 0.002004008016032064)\n",
      "On test(ACC, FPR and FNR) : (0.7137080469065912, 0.17641179410294852, 0.7521186440677966)\n"
     ]
    }
   ],
   "source": [
    "for t in [1,3,5,10]:\n",
    "    print('Performance for round: ',t)\n",
    "    op = pickle.load( open( \"weak_classifiers_t\"+str(t)+\".pkl\", \"rb\" ) )\n",
    "    print('On train(ACC, FPR and FNR) :', evaluate_performance(train_X, train_Y, op))\n",
    "    print('On test(ACC, FPR and FNR) :',evaluate_performance(test_X, test_Y, op))"
   ]
  },
  {
   "cell_type": "markdown",
   "metadata": {},
   "source": [
    "## Drawing bounding box for different rounds"
   ]
  },
  {
   "cell_type": "code",
   "execution_count": 38,
   "metadata": {},
   "outputs": [],
   "source": [
    "def image_display_2_horizontal(classify):\n",
    "    test_image = \"Dataset/testset/faces/cmu_0001.png\"\n",
    "    Image.open(test_image).resize((100,100))\n",
    "    test_image_array = image_to_array(Image.open(test_image))\n",
    "    x = classify.classifier.x\n",
    "    y = classify.classifier.y\n",
    "    width = classify.classifier.width\n",
    "    height = classify.classifier.height\n",
    "    test_image_array[y:y+height, x:x+width//2] = 255\n",
    "    test_image_array[y:y+height, x+width//2:x+width] = 0\n",
    "    return (array_to_image(test_image_array))"
   ]
  },
  {
   "cell_type": "code",
   "execution_count": 39,
   "metadata": {},
   "outputs": [],
   "source": [
    "def image_display_2_vertical(classify):\n",
    "    test_image = \"Dataset/testset/faces/cmu_0001.png\"\n",
    "    Image.open(test_image).resize((100,100))\n",
    "    test_image_array = image_to_array(Image.open(test_image))\n",
    "    x = classify.classifier.x\n",
    "    y = classify.classifier.y\n",
    "    width = classify.classifier.width\n",
    "    height = classify.classifier.height\n",
    "    test_image_array[y:y+height//2, x:x+width] = 0\n",
    "    test_image_array[y+height//2:y+height, x:x+width] = 255\n",
    "    return (array_to_image(test_image_array))"
   ]
  },
  {
   "cell_type": "code",
   "execution_count": 40,
   "metadata": {},
   "outputs": [],
   "source": [
    "def image_display_3_vertical(classify):\n",
    "    test_image = \"Dataset/testset/faces/cmu_0001.png\"\n",
    "    Image.open(test_image).resize((100,100))\n",
    "    test_image_array = image_to_array(Image.open(test_image))\n",
    "    x = classify.classifier.x\n",
    "    y = classify.classifier.y\n",
    "    width = classify.classifier.width\n",
    "    height = classify.classifier.height\n",
    "    test_image_array[y:y+height//3, x:x+width] = 255\n",
    "    test_image_array[y+height//3:y+(2*height)//3, x:x+width] = 0\n",
    "    test_image_array[y+(2*height)//3:y+height, x:x+width] = 255\n",
    "    return (array_to_image(test_image_array))"
   ]
  },
  {
   "cell_type": "code",
   "execution_count": 52,
   "metadata": {},
   "outputs": [],
   "source": [
    "def image_display_3_horizontal(classify):\n",
    "    test_image = \"Dataset/testset/faces/cmu_0001.png\"\n",
    "    Image.open(test_image).resize((100,100))\n",
    "    test_image_array = image_to_array(Image.open(test_image))\n",
    "    x = classify.classifier.x\n",
    "    y = classify.classifier.y\n",
    "    width = classify.classifier.width\n",
    "    height = classify.classifier.height\n",
    "    test_image_array[y:y+height, x:x+width//3] = 0\n",
    "    test_image_array[y:y+height, x+width//3:x+(2*width)//3] = 255\n",
    "    test_image_array[y:y+height, x+(2*width)//3:x+width] = 0\n",
    "    return (array_to_image(test_image_array))"
   ]
  },
  {
   "cell_type": "code",
   "execution_count": 53,
   "metadata": {},
   "outputs": [],
   "source": [
    "def image_display_4_diagonal(classify):\n",
    "    test_image = \"Dataset/testset/faces/cmu_0001.png\"\n",
    "    Image.open(test_image).resize((100,100))\n",
    "    test_image_array = image_to_array(Image.open(test_image))\n",
    "    x = classify.classifier.x\n",
    "    y = classify.classifier.y\n",
    "    width = classify.classifier.width\n",
    "    height = classify.classifier.height\n",
    "    test_image_array[y:y+height//2, x:x+width//2] = 255\n",
    "    test_image_array[y:y+height//2, x+width//2:x+width] = 0\n",
    "    test_image_array[y+height//2:y+height, x:x+width//2] = 0\n",
    "    test_image_array[y+height//2:y+height, x+width//2:x+width] = 255\n",
    "    return (array_to_image(test_image_array))"
   ]
  },
  {
   "cell_type": "code",
   "execution_count": 54,
   "metadata": {},
   "outputs": [],
   "source": [
    "clf= pickle.load( open( \"weak_classifiers_t10.pkl\", \"rb\" ) )"
   ]
  },
  {
   "cell_type": "code",
   "execution_count": 55,
   "metadata": {},
   "outputs": [],
   "source": [
    "for t in [1,3,5,10]:\n",
    "    if clf[t-1].classifier.name =='Two Horizontal Features':\n",
    "        image = image_display_2_horizontal(clf[t-1]).resize((200,200))\n",
    "    elif clf[t-1].classifier.name =='Two Vertical Features':\n",
    "        image =image_display_2_vertical(clf[t-1]).resize((200,200))\n",
    "    elif clf[t-1].classifier.name =='Three Horizontal Features':\n",
    "        image =image_display_3_horizontal(clf[t-1]).resize((200,200))\n",
    "    elif clf[t-1].classifier.name =='Three Vertical Features':\n",
    "        image =image_display_3_vertical(clf[t-1]).resize((200,200))\n",
    "    elif clf[t-1].classifier.name =='Four Diagonal Features':\n",
    "        image =image_display_4_diagonal(clf[t-1]).resize((200,200))\n",
    "    image.save(str(t)+\".png\")\n"
   ]
  },
  {
   "cell_type": "code",
   "execution_count": 56,
   "metadata": {},
   "outputs": [
    {
     "data": {
      "image/png": "[encoded data removed]",
      "text/plain": [
       "<PIL.PngImagePlugin.PngImageFile image mode=L size=200x200 at 0x7F27CFF5A748>"
      ]
     },
     "execution_count": 56,
     "metadata": {},
     "output_type": "execute_result"
    }
   ],
   "source": [
    "Image.open(str(1)+\".png\")"
   ]
  },
  {
   "cell_type": "code",
   "execution_count": 57,
   "metadata": {},
   "outputs": [
    {
     "data": {
      "image/png": "[encoded data removed]",
      "text/plain": [
       "<PIL.PngImagePlugin.PngImageFile image mode=L size=200x200 at 0x7F27CFF63F98>"
      ]
     },
     "execution_count": 57,
     "metadata": {},
     "output_type": "execute_result"
    }
   ],
   "source": [
    "Image.open(str(3)+\".png\")"
   ]
  },
  {
   "cell_type": "code",
   "execution_count": 58,
   "metadata": {},
   "outputs": [
    {
     "data": {
      "image/png": "[encoded data removed]",
      "text/plain": [
       "<PIL.PngImagePlugin.PngImageFile image mode=L size=200x200 at 0x7F27CFF63278>"
      ]
     },
     "execution_count": 58,
     "metadata": {},
     "output_type": "execute_result"
    }
   ],
   "source": [
    "Image.open(str(5)+\".png\")"
   ]
  },
  {
   "cell_type": "code",
   "execution_count": 59,
   "metadata": {},
   "outputs": [
    {
     "data": {
      "image/png": "[encoded data removed]",
      "text/plain": [
       "<PIL.PngImagePlugin.PngImageFile image mode=L size=200x200 at 0x7F27CFF635F8>"
      ]
     },
     "execution_count": 59,
     "metadata": {},
     "output_type": "execute_result"
    }
   ],
   "source": [
    "Image.open(str(10)+\".png\")"
   ]
  },
  {
   "cell_type": "markdown",
   "metadata": {},
   "source": [
    "## Adjust the threshold"
   ]
  },
  {
   "cell_type": "markdown",
   "metadata": {},
   "source": [
    "### A) Adjusting threshold for FNR"
   ]
  },
  {
   "cell_type": "code",
   "execution_count": 1,
   "metadata": {},
   "outputs": [],
   "source": [
    "def adaboostTrainFN(train_X, train_Y, T, features, weights =None):\n",
    "    if weights is None:\n",
    "        faces = len(train_Y[train_Y > 0.5])\n",
    "        non_faces = len(train_Y[train_Y < 0.5])\n",
    "\n",
    "        weights = np.zeros(train_Y.shape)\n",
    "        weights[train_Y > 0.5] = 1.0/(2*faces)\n",
    "        weights[train_Y < 0.5] = 1.0/(2*non_faces)\n",
    "\n",
    "    weak_classifiers = []\n",
    "    for t in range(T):\n",
    "        start_time = time.time()\n",
    "        print('Weak classifier Round',t+1)\n",
    "        weights = weights / weights.sum()\n",
    "        # best weak classifier for this round\n",
    "        best = ClassifierResult(feature=None, position=0, polarity=0, threshold=0, classification_error=float('inf'))\n",
    "        processed = 1\n",
    "        print('Completed: ')\n",
    "        for i,f in enumerate(features):\n",
    "            result = apply_feature_fn(f, i, train_X[:,i], train_Y, weights)\n",
    "            if result.classification_error < best.classification_error:\n",
    "                    best = result\n",
    "            processed += 1\n",
    "            if processed % 5000 == 0:\n",
    "                print(processed, end=' ')\n",
    "        beta = best.classification_error / (1 - best.classification_error)\n",
    "        alpha = np.log(1. / beta)\n",
    "        classifier = WeakClassifier(threshold=best.threshold, polarity=best.polarity, classifier=best.feature, position=best.position, alpha=alpha)\n",
    "        for i, (fx, y) in enumerate(zip(train_X[:,classifier.position], train_Y)):\n",
    "            h = weak_classifier(fx, classifier.polarity, classifier.threshold)\n",
    "            e = np.abs(h - y)\n",
    "            weights[i] = weights[i] * np.power(beta, 1-e)\n",
    "            \n",
    "        weak_classifiers.append(classifier)\n",
    "        time_now = time.time()\n",
    "        print('Time taken', (time_now - start_time))\n",
    "    return weak_classifiers"
   ]
  },
  {
   "cell_type": "code",
   "execution_count": 2,
   "metadata": {},
   "outputs": [],
   "source": [
    "def apply_feature_fn(feature, position, train_fX, train_Y, weights):\n",
    "    threshold, polarity = determine_threshold_polarity(train_fX, train_Y, weights)\n",
    "    # Determine the classification error\n",
    "    error = 0.0\n",
    "    error_fp=0.0\n",
    "    error_fn=0.0\n",
    "    tot_pos =0\n",
    "    tot_neg=0\n",
    "    for fx, y, w in zip(train_fX, train_Y, weights):\n",
    "        h = weak_classifier(fx, polarity, threshold)\n",
    "            \n",
    "        if(h==1 and y==0):\n",
    "            error_fp +=  w * np.abs(h - y)\n",
    "      \n",
    "        if(h==0 and y==1):\n",
    "            error_fn +=  w * np.abs(h - y)\n",
    "        \n",
    "    error = 0.2*error_fp + 0.8*error_fn\n",
    "\n",
    "    return ClassifierResult(threshold=threshold, polarity=polarity, \n",
    "                            classification_error=error, feature=feature, position=position)"
   ]
  },
  {
   "cell_type": "code",
   "execution_count": 58,
   "metadata": {},
   "outputs": [
    {
     "name": "stdout",
     "output_type": "stream",
     "text": [
      "Training Started 2.3\n",
      "Weak classifier Round 1\n",
      "Completed: \n",
      "5000 10000 15000 20000 25000 30000 35000 40000 45000 50000 55000 60000 Time taken 505.9608266353607\n",
      "Weak classifier Round 2\n",
      "Completed: \n",
      "5000 10000 15000 20000 25000 30000 35000 40000 45000 50000 55000 60000 Time taken 504.62768840789795\n",
      "Weak classifier Round 3\n",
      "Completed: \n",
      "5000 10000 15000 20000 25000 30000 35000 40000 45000 50000 55000 60000 Time taken 503.4775404930115\n",
      "Weak classifier Round 4\n",
      "Completed: \n",
      "5000 10000 15000 20000 25000 30000 35000 40000 45000 50000 55000 60000 Time taken 505.92192220687866\n",
      "Weak classifier Round 5\n",
      "Completed: \n",
      "5000 10000 15000 20000 25000 30000 35000 40000 45000 50000 55000 60000 Time taken 502.82609844207764\n"
     ]
    }
   ],
   "source": [
    "print('Training Started 2.3')\n",
    "weak_classifiers_fn5 = adaboostTrainFN(train_X, train_Y, 5, total_features)\n",
    "with open('weak_classifiers_fn5.pkl', 'wb') as f:\n",
    "        pickle.dump(weak_classifiers_fn5, f)"
   ]
  },
  {
   "cell_type": "code",
   "execution_count": 60,
   "metadata": {},
   "outputs": [
    {
     "name": "stdout",
     "output_type": "stream",
     "text": [
      "Performance for round 5 using FNR\n",
      "On train(ACC, FPR and FNR) : (0.5838335334133653, 0.52, 0.0)\n",
      "On test(ACC, FPR and FNR) : (0.4504650222401941, 0.6191904047976012, 0.2542372881355932)\n"
     ]
    }
   ],
   "source": [
    "print('Performance for round 5 using FNR')\n",
    "op = pickle.load( open( \"weak_classifiers_fn5.pkl\", \"rb\" ) )\n",
    "print('On train(ACC, FPR and FNR) :', evaluate_performance(train_X, train_Y, op))\n",
    "print('On test(ACC, FPR and FNR) :',evaluate_performance(test_X, test_Y, op))"
   ]
  },
  {
   "cell_type": "markdown",
   "metadata": {},
   "source": [
    "### B) Adjusting threshold for FPR\n"
   ]
  },
  {
   "cell_type": "code",
   "execution_count": 63,
   "metadata": {},
   "outputs": [],
   "source": [
    "def adaboostTrainFP(train_X, train_Y, T, features, weights =None):\n",
    "    if weights is None:\n",
    "        faces = len(train_Y[train_Y > 0.5])\n",
    "        non_faces = len(train_Y[train_Y < 0.5])\n",
    "\n",
    "        weights = np.zeros(train_Y.shape)\n",
    "        weights[train_Y > 0.5] = 1.0/(2*faces)\n",
    "        weights[train_Y < 0.5] = 1.0/(2*non_faces)\n",
    "\n",
    "    weak_classifiers = []\n",
    "    for t in range(T):\n",
    "        start_time = time.time()\n",
    "        print('Weak classifier Round',t+1)\n",
    "        weights = weights / weights.sum()\n",
    "        # best weak classifier for this round\n",
    "        best = ClassifierResult(feature=None, position=0, polarity=0, threshold=0, classification_error=float('inf'))\n",
    "        processed = 1\n",
    "        print('Completed: ')\n",
    "        for i,f in enumerate(features):\n",
    "            result = apply_feature_fp(f, i, train_X[:,i], train_Y, weights)\n",
    "            if result.classification_error < best.classification_error:\n",
    "                    best = result\n",
    "            processed += 1\n",
    "            if processed % 5000 == 0:\n",
    "                print(processed, end=' ')\n",
    "        beta = best.classification_error / (1 - best.classification_error)\n",
    "        alpha = np.log(1. / beta)\n",
    "        classifier = WeakClassifier(threshold=best.threshold, polarity=best.polarity, classifier=best.feature, position=best.position, alpha=alpha)\n",
    "        for i, (fx, y) in enumerate(zip(train_X[:,classifier.position], train_Y)):\n",
    "            h = weak_classifier(fx, classifier.polarity, classifier.threshold)\n",
    "            e = np.abs(h - y)\n",
    "            weights[i] = weights[i] * np.power(beta, 1-e)\n",
    "            \n",
    "        weak_classifiers.append(classifier)\n",
    "        time_now = time.time()\n",
    "        print('Time taken', (time_now - start_time))\n",
    "    return weak_classifiers"
   ]
  },
  {
   "cell_type": "code",
   "execution_count": 64,
   "metadata": {},
   "outputs": [],
   "source": [
    "def apply_feature_fp(feature, position, train_fX, train_Y, weights):\n",
    "    threshold, polarity = determine_threshold_polarity(train_fX, train_Y, weights)\n",
    "    # Determine the classification error\n",
    "    error = 0.0\n",
    "    error_fp=0.0\n",
    "    error_fn=0.0\n",
    "    tot_pos =0\n",
    "    tot_neg=0\n",
    "    for fx, y, w in zip(train_fX, train_Y, weights):\n",
    "        h = weak_classifier(fx, polarity, threshold)\n",
    "            \n",
    "        if(h==1 and y==0):\n",
    "            error_fp +=  w * np.abs(h - y)\n",
    "      \n",
    "        if(h==0 and y==1):\n",
    "            error_fn +=  w * np.abs(h - y)\n",
    "        \n",
    "    error = 0.8*error_fp + 0.2*error_fn\n",
    "\n",
    "    return ClassifierResult(threshold=threshold, polarity=polarity, \n",
    "                            classification_error=error, feature=feature, position=position)"
   ]
  },
  {
   "cell_type": "code",
   "execution_count": 65,
   "metadata": {},
   "outputs": [
    {
     "name": "stdout",
     "output_type": "stream",
     "text": [
      "Training Started 2.3 FPR\n",
      "Weak classifier Round 1\n",
      "Completed: \n",
      "5000 10000 15000 20000 25000 30000 35000 40000 45000 50000 55000 60000 Time taken 503.0678424835205\n",
      "Weak classifier Round 2\n",
      "Completed: \n",
      "5000 10000 15000 20000 25000 30000 35000 40000 45000 50000 55000 60000 Time taken 501.74391531944275\n",
      "Weak classifier Round 3\n",
      "Completed: \n",
      "5000 10000 15000 20000 25000 30000 35000 40000 45000 50000 55000 60000 Time taken 504.258841753006\n",
      "Weak classifier Round 4\n",
      "Completed: \n",
      "5000 10000 15000 20000 25000 30000 35000 40000 45000 50000 55000 60000 Time taken 502.83271884918213\n",
      "Weak classifier Round 5\n",
      "Completed: \n",
      "5000 10000 15000 20000 25000 30000 35000 40000 45000 50000 55000 60000 Time taken 504.12196922302246\n"
     ]
    }
   ],
   "source": [
    "print('Training Started 2.3 FPR')\n",
    "weak_classifiers_fp5 = adaboostTrainFP(train_X, train_Y, 5, total_features)\n",
    "with open('weak_classifiers_fp5.pkl', 'wb') as f:\n",
    "        pickle.dump(weak_classifiers_fp5, f)"
   ]
  },
  {
   "cell_type": "code",
   "execution_count": 66,
   "metadata": {},
   "outputs": [
    {
     "name": "stdout",
     "output_type": "stream",
     "text": [
      "Performance for FPR\n",
      "On train(ACC, FPR and FNR) : (0.7839135654261705, 0.075, 0.781563126252505)\n",
      "On test(ACC, FPR and FNR) : (0.8285483218762636, 0.004997501249375313, 0.8771186440677966)\n"
     ]
    }
   ],
   "source": [
    "print('Performance for FPR')\n",
    "op = pickle.load( open( \"weak_classifiers_fp5.pkl\", \"rb\" ) )\n",
    "print('On train(ACC, FPR and FNR) :', evaluate_performance(train_X, train_Y, op))\n",
    "print('On test(ACC, FPR and FNR) :',evaluate_performance(test_X, test_Y, op))"
   ]
  },
  {
   "cell_type": "markdown",
   "metadata": {},
   "source": [
    "## Bonus Question"
   ]
  },
  {
   "cell_type": "code",
   "execution_count": 511,
   "metadata": {},
   "outputs": [],
   "source": [
    "original_image_path = \"Dataset/got2.jpg\"\n",
    "original_image = Image.open(original_image_path)\n",
    "target_size = (384, 288)\n",
    "image_copy = original_image.copy()\n",
    "image_copy.thumbnail(target_size, Image.ANTIALIAS)\n",
    "image_array = image_to_array(image_copy)"
   ]
  },
  {
   "cell_type": "code",
   "execution_count": 512,
   "metadata": {},
   "outputs": [],
   "source": [
    "w1= pickle.load( open( \"weak_classifiers_t1.pkl\", \"rb\" ) )\n",
    "w3= pickle.load( open( \"weak_classifiers_t3.pkl\", \"rb\" ) )\n",
    "w5= pickle.load( open( \"weak_classifiers_t5.pkl\", \"rb\" ) )\n",
    "w10= pickle.load( open( \"weak_classifiers_t10.pkl\", \"rb\" ) )\n",
    "w25= pickle.load( open( \"weak_classifiers_t25.pkl\", \"rb\" ) )\n",
    "w50= pickle.load( open( \"weak_classifiers_t50.pkl\", \"rb\" ) )"
   ]
  },
  {
   "cell_type": "code",
   "execution_count": 513,
   "metadata": {},
   "outputs": [],
   "source": [
    "def gray(values):\n",
    "    return np.sum(values**(1./2.2), axis=2) / values.shape[2]\n"
   ]
  },
  {
   "cell_type": "code",
   "execution_count": 514,
   "metadata": {},
   "outputs": [],
   "source": [
    "WINDOW_SIZE = 80"
   ]
  },
  {
   "cell_type": "code",
   "execution_count": 515,
   "metadata": {},
   "outputs": [],
   "source": [
    "def strong_classifier_test(x, weak_classifiers):\n",
    "    sum_hypotheses = 0.\n",
    "    sum_alphas = 0.\n",
    "    for c in weak_classifiers:\n",
    "        sum_hypotheses += c.alpha * weak_classifier_test(x,c.classifier,c.polarity,c.threshold)\n",
    "        sum_alphas += c.alpha\n",
    "    return 1 if (sum_hypotheses >= .5*sum_alphas) else 0"
   ]
  },
  {
   "cell_type": "code",
   "execution_count": 516,
   "metadata": {},
   "outputs": [],
   "source": [
    "def weak_classifier_test(x, f, polarity, theta) -> float:\n",
    "    return (np.sign((polarity * theta) - (polarity * compute_feature(x,f))) + 1) // 2"
   ]
  },
  {
   "cell_type": "code",
   "execution_count": 517,
   "metadata": {},
   "outputs": [],
   "source": [
    "def make_box(image, face_positions):\n",
    "    img = image_to_array(image.copy())\n",
    "    for row, col in face_positions:\n",
    "        img[row-REDUCED_WINDOW-1, col-REDUCED_WINDOW-1:col+REDUCED_WINDOW, :] = [255, 0, 0]\n",
    "        img[row+REDUCED_WINDOW-1, col-REDUCED_WINDOW-1:col+REDUCED_WINDOW, :] = [255, 0, 0]\n",
    "        img[row-REDUCED_WINDOW-1:row+REDUCED_WINDOW, col-REDUCED_WINDOW-1, :] = [255, 0, 0]\n",
    "        img[row-REDUCED_WINDOW-1:row+REDUCED_WINDOW, col+REDUCED_WINDOW-1, :] = [255, 0, 0]\n",
    "    return array_to_image(img)"
   ]
  },
  {
   "cell_type": "code",
   "execution_count": 520,
   "metadata": {},
   "outputs": [],
   "source": [
    "grayscale = gray(image_array)\n",
    "rows, cols = grayscale.shape[0:2]\n",
    "REDUCED_WINDOW = WINDOW_SIZE // 2\n",
    "face_positions = []\n",
    "integral_image = calculate_integral_image(grayscale)\n",
    "\n",
    "for row in range(REDUCED_WINDOW + 1, rows - REDUCED_WINDOW, 4):\n",
    "    for col in range(REDUCED_WINDOW + 1, cols - REDUCED_WINDOW,4):\n",
    "        window = integral_image[row-REDUCED_WINDOW-1:row+REDUCED_WINDOW+1, col-REDUCED_WINDOW-1:col+REDUCED_WINDOW+1]\n",
    "                \n",
    "        face = strong_classifier_test(window, w1)\n",
    "        if face < .5:\n",
    "            continue\n",
    "            \n",
    "        face = strong_classifier_test(window, w3)\n",
    "        if face < .5:\n",
    "            continue\n",
    "            \n",
    "        face = strong_classifier_test(window, w5)\n",
    "        if face < .5:\n",
    "            continue\n",
    "            \n",
    "        face = strong_classifier_test(window, w10)\n",
    "        if face < .5:\n",
    "            continue\n",
    "\n",
    "        face = strong_classifier_test(window, w50[:15])\n",
    "        if face < .5:\n",
    "            continue\n",
    "        face = strong_classifier_test(window, w50[:20])\n",
    "        if face < .5:\n",
    "            continue\n",
    "        \n",
    "        face = strong_classifier_test(window, w25)\n",
    "        if face < .5:\n",
    "            continue\n",
    "       \n",
    "        face = strong_classifier_test(window, w50[:30])\n",
    "        if face < .5:\n",
    "            continue\n",
    "        \n",
    "        face = strong_classifier_test(window, w50[:40])\n",
    "        if face < .5:\n",
    "            continue\n",
    "    \n",
    "        face = strong_classifier_test(window, w50)\n",
    "        if face < .5:\n",
    "            continue\n",
    "        face_positions.append((row, col))\n",
    "        rows= rows - 4"
   ]
  },
  {
   "cell_type": "code",
   "execution_count": 521,
   "metadata": {},
   "outputs": [
    {
     "data": {
      "image/png": "[encoded data removed]",
      "text/plain": [
       "<PIL.Image.Image image mode=RGB size=288x288 at 0x7FDB580C2908>"
      ]
     },
     "execution_count": 521,
     "metadata": {},
     "output_type": "execute_result"
    }
   ],
   "source": [
    "make_box(image_copy,face_positions)"
   ]
  },
  {
   "cell_type": "code",
   "execution_count": null,
   "metadata": {},
   "outputs": [],
   "source": []
  }
 ],
 "metadata": {
  "kernelspec": {
   "display_name": "Python 3",
   "language": "python",
   "name": "python3"
  },
  "language_info": {
   "codemirror_mode": {
    "name": "ipython",
    "version": 3
   },
   "file_extension": ".py",
   "mimetype": "text/x-python",
   "name": "python",
   "nbconvert_exporter": "python",
   "pygments_lexer": "ipython3",
   "version": "3.7.1"
  }
 },
 "nbformat": 4,
 "nbformat_minor": 2
}
